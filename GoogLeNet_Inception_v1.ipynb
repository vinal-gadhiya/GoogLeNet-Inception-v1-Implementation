{
  "nbformat": 4,
  "nbformat_minor": 0,
  "metadata": {
    "colab": {
      "provenance": [],
      "collapsed_sections": []
    },
    "kernelspec": {
      "name": "python3",
      "display_name": "Python 3"
    },
    "language_info": {
      "name": "python"
    }
  },
  "cells": [
    {
      "cell_type": "code",
      "source": [
        "import torch\n",
        "from torch import nn\n",
        "import torch.nn.functional as F"
      ],
      "metadata": {
        "id": "f-Ho2WldSrdj"
      },
      "execution_count": null,
      "outputs": []
    },
    {
      "cell_type": "code",
      "source": [
        "class InceptionBlock(nn.Module):\n",
        "  def __init__(self, in_channels, out_channels_1, in_reduce_3, out_reduce_3, in_reduce_5, out_reduce_5, out_channels_pool):\n",
        "    super().__init__()\n",
        "    self.conv1_depth = nn.Sequential(\n",
        "        nn.Conv2d(in_channels=in_channels, out_channels=out_channels_1, kernel_size=1, stride=1),\n",
        "        nn.ReLU()\n",
        "    )\n",
        "\n",
        "    self.conv3_depth = nn.Sequential(\n",
        "        nn.Conv2d(in_channels=in_channels, out_channels=in_reduce_3, kernel_size=1, stride=1),\n",
        "        nn.ReLU(),\n",
        "        nn.Conv2d(in_channels=in_reduce_3, out_channels=out_reduce_3, kernel_size=3, stride=1, padding=1),\n",
        "        nn.ReLU()\n",
        "    )\n",
        "\n",
        "    self.conv5_depth = nn.Sequential(\n",
        "        nn.Conv2d(in_channels=in_channels, out_channels=in_reduce_5, kernel_size=1, stride=1),\n",
        "        nn.ReLU(),\n",
        "        nn.Conv2d(in_channels=in_reduce_5, out_channels=out_reduce_5, kernel_size=5, stride=1, padding=2),\n",
        "        nn.ReLU()\n",
        "    )\n",
        "\n",
        "    self.maxpool_depth = nn.Sequential(\n",
        "        nn.MaxPool2d(kernel_size=3, stride=1, padding=1),\n",
        "        nn.Conv2d(in_channels=in_channels, out_channels=out_channels_pool, kernel_size=1, stride=1),\n",
        "        nn.ReLU()\n",
        "    )\n",
        "\n",
        "  def forward(self, x):\n",
        "    return torch.cat((self.conv1_depth(x), self.conv3_depth(x), self.conv5_depth(x), self.maxpool_depth(x)), dim=0)"
      ],
      "metadata": {
        "id": "4J-Im_lSSsJC"
      },
      "execution_count": null,
      "outputs": []
    },
    {
      "cell_type": "code",
      "source": [
        "class GoogLeNet(nn.Module):\n",
        "  def __init__(self):\n",
        "    super().__init__()\n",
        "    self.conv1 = nn.Conv2d(in_channels=3, out_channels=64, kernel_size=7, stride=2, padding=3)\n",
        "    self.max_pool = nn.MaxPool2d(kernel_size=3, stride=2, padding=1)\n",
        "    # self.norm = nn.LocalResponseNorm()\n",
        "    self.conv2 = nn.Conv2d(in_channels=64, out_channels=64, kernel_size=1, stride=1)\n",
        "    self.conv3 = nn.Conv2d(in_channels=64, out_channels=192, kernel_size=3, stride=1, padding=1)\n",
        "    self.inception3a = InceptionBlock(in_channels=192, out_channels_1=64, in_reduce_3=96, out_reduce_3=128, in_reduce_5=16, out_reduce_5=32, out_channels_pool=32)\n",
        "    self.inception3b = InceptionBlock(in_channels=256, out_channels_1=128, in_reduce_3=128, out_reduce_3=192, in_reduce_5=32, out_reduce_5=96, out_channels_pool=64)\n",
        "    self.inception4a = InceptionBlock(in_channels=480, out_channels_1=192, in_reduce_3=96, out_reduce_3=208, in_reduce_5=16, out_reduce_5=48, out_channels_pool=64)\n",
        "    self.inception4b = InceptionBlock(in_channels=512, out_channels_1=160, in_reduce_3=112, out_reduce_3=224, in_reduce_5=24, out_reduce_5=64, out_channels_pool=64)\n",
        "    self.inception4c = InceptionBlock(in_channels=512, out_channels_1=128, in_reduce_3=128, out_reduce_3=256, in_reduce_5=24, out_reduce_5=64, out_channels_pool=64)\n",
        "    self.inception4d = InceptionBlock(in_channels=512, out_channels_1=112, in_reduce_3=144, out_reduce_3=288, in_reduce_5=32, out_reduce_5=64, out_channels_pool=64)\n",
        "    self.inception4e = InceptionBlock(in_channels=528, out_channels_1=256, in_reduce_3=160, out_reduce_3=320, in_reduce_5=32, out_reduce_5=128, out_channels_pool=128)\n",
        "    self.inception5a = InceptionBlock(in_channels=832, out_channels_1=256, in_reduce_3=160, out_reduce_3=320, in_reduce_5=32, out_reduce_5=128, out_channels_pool=128)\n",
        "    self.inception5b = InceptionBlock(in_channels=832, out_channels_1=384, in_reduce_3=192, out_reduce_3=384, in_reduce_5=48, out_reduce_5=128, out_channels_pool=128)\n",
        "    self.avg_pool = nn.AvgPool2d(kernel_size=7, stride=1)\n",
        "    self.dropout = nn.Dropout(p=0.4)\n",
        "    self.linear = nn.Linear(in_features=1024, out_features=1000)\n",
        "\n",
        "  def forward(self, x):\n",
        "    x = self.max_pool(F.relu(self.conv1(x)))\n",
        "    x = F.relu(self.conv2(x))\n",
        "    x = self.max_pool(F.relu(self.conv3(x)))\n",
        "    x = self.inception3a(x)\n",
        "    x = self.max_pool(self.inception3b(x))\n",
        "    x = self.inception4a(x)\n",
        "    x = self.inception4b(x)\n",
        "    x = self.inception4c(x)\n",
        "    x = self.inception4d(x)\n",
        "    x = self.max_pool(self.inception4e(x))\n",
        "    x = self.inception5a(x)\n",
        "    x = torch.flatten(self.avg_pool(self.inception5b(x)))\n",
        "    return F.softmax(self.linear(x))"
      ],
      "metadata": {
        "id": "Z2aUdZaFaeYR"
      },
      "execution_count": null,
      "outputs": []
    },
    {
      "cell_type": "code",
      "source": [
        "model = GoogLeNet()"
      ],
      "metadata": {
        "id": "yZjpDImEvU1o"
      },
      "execution_count": null,
      "outputs": []
    },
    {
      "cell_type": "code",
      "source": [
        "test = torch.rand(size=(3, 224, 224))"
      ],
      "metadata": {
        "id": "DvOvVdRVvZms"
      },
      "execution_count": null,
      "outputs": []
    },
    {
      "cell_type": "code",
      "source": [
        "test.shape"
      ],
      "metadata": {
        "colab": {
          "base_uri": "https://localhost:8080/"
        },
        "id": "eoshj4uvyp8h",
        "outputId": "e52ecc92-bbc6-4596-dc0e-e5fbdd939b64"
      },
      "execution_count": null,
      "outputs": [
        {
          "output_type": "execute_result",
          "data": {
            "text/plain": [
              "torch.Size([3, 224, 224])"
            ]
          },
          "metadata": {},
          "execution_count": 12
        }
      ]
    },
    {
      "cell_type": "code",
      "source": [
        "pred = model(test)"
      ],
      "metadata": {
        "colab": {
          "base_uri": "https://localhost:8080/"
        },
        "id": "cPp9YXx7yrDW",
        "outputId": "cf53e36e-9bf1-47f3-ab83-2aab06aefa5d"
      },
      "execution_count": null,
      "outputs": [
        {
          "output_type": "stream",
          "name": "stderr",
          "text": [
            "/usr/local/lib/python3.7/dist-packages/ipykernel_launcher.py:35: UserWarning: Implicit dimension choice for softmax has been deprecated. Change the call to include dim=X as an argument.\n"
          ]
        }
      ]
    },
    {
      "cell_type": "code",
      "source": [
        "pred.shape"
      ],
      "metadata": {
        "colab": {
          "base_uri": "https://localhost:8080/"
        },
        "id": "XuoKv9Q_1rFP",
        "outputId": "0401ca7c-e65d-451b-f5de-a6ef6524458f"
      },
      "execution_count": null,
      "outputs": [
        {
          "output_type": "execute_result",
          "data": {
            "text/plain": [
              "torch.Size([1000])"
            ]
          },
          "metadata": {},
          "execution_count": 14
        }
      ]
    },
    {
      "cell_type": "code",
      "source": [
        "from torchsummary import summary"
      ],
      "metadata": {
        "id": "VtMWXsQ_y4__"
      },
      "execution_count": null,
      "outputs": []
    },
    {
      "cell_type": "code",
      "source": [
        "# summary(model, (3, 224, 224))"
      ],
      "metadata": {
        "id": "MLnwFCmYzdjF"
      },
      "execution_count": null,
      "outputs": []
    },
    {
      "cell_type": "code",
      "source": [],
      "metadata": {
        "id": "88OeH2Dhzkx_"
      },
      "execution_count": null,
      "outputs": []
    }
  ]
}